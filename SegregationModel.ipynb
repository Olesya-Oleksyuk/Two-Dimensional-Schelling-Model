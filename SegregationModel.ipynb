{
  "nbformat": 4,
  "nbformat_minor": 0,
  "metadata": {
    "colab": {
      "provenance": [],
      "include_colab_link": true
    },
    "kernelspec": {
      "display_name": "Python 3",
      "language": "python",
      "name": "python3"
    },
    "language_info": {
      "codemirror_mode": {
        "name": "ipython",
        "version": 3
      },
      "file_extension": ".py",
      "mimetype": "text/x-python",
      "name": "python",
      "nbconvert_exporter": "python",
      "pygments_lexer": "ipython3",
      "version": "3.8.5"
    }
  },
  "cells": [
    {
      "cell_type": "markdown",
      "metadata": {
        "id": "view-in-github",
        "colab_type": "text"
      },
      "source": [
        "<a href=\"https://colab.research.google.com/github/Olesya-Oleksyuk/Two-Dimensional-Schelling-Model/blob/main/SegregationModel.ipynb\" target=\"_parent\"><img src=\"https://colab.research.google.com/assets/colab-badge.svg\" alt=\"Open In Colab\"/></a>"
      ]
    },
    {
      "cell_type": "markdown",
      "source": [
        "### Документ с детальным описанием одномерной модели сегрегации Шеллинга, с выводами по результатам её работы (написано на основе оригинальной статьи Шеллинга): https://docs.google.com/document/d/1cXJanTtr9DQKrVDiqM91dEn-sma5t-A7/edit#"
      ],
      "metadata": {
        "id": "5-ELA66f_eDq"
      }
    },
    {
      "cell_type": "code",
      "metadata": {
        "id": "sck5eLD6-D3S"
      },
      "source": [
        "from scipy.signal import correlate2d\n",
        "from matplotlib.colors import LinearSegmentedColormap\n",
        "import matplotlib as mpl\n",
        "import matplotlib.pyplot as plt\n",
        "import numpy as np\n",
        "import seaborn as sns\n",
        "from time import sleep\n",
        "from IPython.display import clear_output"
      ],
      "execution_count": null,
      "outputs": []
    },
    {
      "cell_type": "markdown",
      "metadata": {
        "id": "lJk-S6c3x6Tx"
      },
      "source": [
        "# Класс 2-D **клеточного автомата**, на основе которого строится модель Шеллинга"
      ]
    },
    {
      "cell_type": "code",
      "metadata": {
        "id": "r8UMEaXWyLy9"
      },
      "source": [
        "class Cell2D:\n",
        "    \"\"\"Базовый класс для построения 2-D клеточнего автомата.\"\"\"\n",
        "\n",
        "    def __init__(self, n, m=None):\n",
        "        \"\"\"Инициализация атрибутов\n",
        "\n",
        "        n: количество строк\n",
        "        m: количество столбцов\n",
        "        \"\"\"\n",
        "        m = n if m is None else m\n",
        "        self.array = np.zeros((n, m), np.uint8)\n",
        "\n",
        "    def add_cells(self, row, col, *strings):\n",
        "        \"\"\"Добавление клеток в заданную локацию\n",
        "\n",
        "        row: вернхий индекс строки\n",
        "        col: левый индекс столбца\n",
        "        strings: список строк из 0 и 1\n",
        "        \"\"\"\n",
        "        for i, s in enumerate(strings):\n",
        "            self.array[row + i, col:col + len(s)] = np.array([int(b) for b in s])\n",
        "\n",
        "    def loop(self, iters=1, show_segregation_steps = None):\n",
        "        \"\"\"Запуск заданного количества шагов\n",
        "        iters: количество шагов перемещений агентов\n",
        "        show_segregation_steps (True): вывести значение степени сегрегации системы после шага\n",
        "        \"\"\"\n",
        "        for i in range(1, iters+1):\n",
        "            if show_segregation_steps == True:\n",
        "                 print('шаг ', i)\n",
        "            self.step(show_segregation_steps)\n",
        "\n",
        "    def draw(self, **options):\n",
        "        \"\"\"Отрисовка массива\"\"\"\n",
        "        draw_array(self.array, **options)\n",
        "\n",
        "    def animate(self, frames, interval=None, step=None):\n",
        "        \"\"\"Анимация автомата\n",
        "\n",
        "        frames: количество шагов моделирования\n",
        "        interval: время между фреймами в секундах\n",
        "        step: функция, реализующая 1 шаг перемещений\n",
        "        \"\"\"\n",
        "        if step is None:\n",
        "            step = self.step\n",
        "\n",
        "        try:\n",
        "            for i in range(frames - 1):\n",
        "                self.draw(animation=True)\n",
        "                plt.show()\n",
        "                if interval:\n",
        "                    sleep(interval)\n",
        "                step()\n",
        "                clear_output(wait=True)\n",
        "            self.draw(animation=True)\n",
        "            plt.show()\n",
        "        except KeyboardInterrupt:\n",
        "            pass"
      ],
      "execution_count": null,
      "outputs": []
    },
    {
      "cell_type": "markdown",
      "metadata": {
        "id": "Pu1qIl7LyVKA"
      },
      "source": [
        "# Вспомогательные функции для отрисовки графиков"
      ]
    },
    {
      "cell_type": "code",
      "metadata": {
        "id": "p-yIyAZ6yaA_"
      },
      "source": [
        "def draw_array(array, animation=None, **options):\n",
        "    \"\"\"Отрисовка клеток\"\"\"\n",
        "    n, m = array.shape\n",
        "    options = underride(options,\n",
        "                        cmap='Greens',\n",
        "                        alpha=0.7,\n",
        "                        vmin=0, vmax=1,\n",
        "                        interpolation='none',\n",
        "                        origin='upper',\n",
        "                        extent=[0, m, 0, n])\n",
        "    if animation == True:\n",
        "      plt.figure(figsize=(10,10))\n",
        "    plt.axis([0, m, 0, n])\n",
        "    plt.xticks([])\n",
        "    plt.yticks([])\n",
        "    \n",
        "    return plt.imshow(array, **options)\n",
        "\n",
        "\n",
        "\n",
        "# mpl.rcParams['lines.linewidth'] = 2.0\n",
        "\n",
        "\n",
        "def three_frame(world, n_seq, seed=17, show_segregation_steps = None):\n",
        "    \"\"\"Отрисовка снимков 3х состояний сегрегации системы\n",
        "\n",
        "    world: объект класса Schelling с функциями step, loop, and draw\n",
        "    n_seq: картеж из 3 значений, количество шагов перед каждым снимком\n",
        "    seed: случайное see для NumPy\n",
        "    \"\"\"\n",
        "    np.random.seed(seed)\n",
        "    plt.subplots(figsize=(20, 20))\n",
        "    for i, n in enumerate(n_seq):\n",
        "        # plt.figure(figsize=(10,10))\n",
        "        plt.subplot(1, 3, i + 1)\n",
        "        plt.title(f\"{n} шагов\")\n",
        "        world.loop(n, show_segregation_steps)\n",
        "        world.draw()\n",
        "\n",
        "    plt.tight_layout()\n",
        "\n",
        "def underride(d, **options):\n",
        "    \"\"\"Добавление пар ключ-значение в словарь-опций (d), если ключа нет в d\n",
        "    d: словарь с опциями для графика\n",
        "    options: ключевые слова args для добавление в словарь-опций d\n",
        "    \"\"\"\n",
        "    for key, val in options.items():\n",
        "        d.setdefault(key, val)\n",
        "    return d\n",
        "\n",
        "\n",
        "def decorate(**options):\n",
        "    \"\"\"Декорирование осей графика\n",
        "\n",
        "    Вызов декорирования с агрументами-опциями вида:\n",
        "    decorate(title='Title',\n",
        "             xlabel='x',\n",
        "             ylabel='y')\n",
        "\n",
        "    Агрументы-опции могут быть любыми из опций декорирования осей\n",
        "    https://matplotlib.org/api/axes_api.html\n",
        "\n",
        "    Дополнительно, вы можете использовать `legend=False` для отключения легенды\n",
        "\n",
        "    Используйте `loc` для указания положения легенды на графике\n",
        "    (значение по-умолачанию - 'best')\n",
        "    \"\"\"\n",
        "    loc = options.pop(\"loc\", \"best\")\n",
        "    if options.pop(\"legend\", True):\n",
        "        legend(loc=loc)\n",
        "\n",
        "    plt.gca().set(**options)\n",
        "    # plt.figure(figsize=(10, 6))\n",
        "    plt.tight_layout()\n",
        "\n",
        "\n",
        "def legend(**options):\n",
        "    \"\"\"Отрисовка легенды, если есть хотя бы 1 элемент с лейблом.\n",
        "    опции передаются в plt.legend()\n",
        "    https://matplotlib.org/api/_as_gen/matplotlib.pyplot.legend.html\n",
        "    \"\"\"\n",
        "    underride(options, loc=\"best\", frameon=False)\n",
        "\n",
        "    ax = plt.gca()\n",
        "    handles, labels = ax.get_legend_handles_labels()\n",
        "    if handles:\n",
        "        ax.legend(handles, labels, **options)\n",
        "\n",
        "\n",
        "def set_palette(*args, **kwds):\n",
        "    \"\"\"Задание цвеовой паллитры для matplotlib\n",
        "\n",
        "    args, kwds: то же что и для sns.color_palette\n",
        "\n",
        "    Также принимает kwd (boolean), `reverse`, для обозначения того\n",
        "    будет ли порядок цветов паллитры обратным\n",
        "\n",
        "    returns: список цветов\n",
        "    \"\"\"\n",
        "    reverse = kwds.pop('reverse', False)\n",
        "    palette = sns.color_palette(*args, **kwds)\n",
        "\n",
        "    palette = list(palette)\n",
        "    if reverse:\n",
        "        palette.reverse()\n",
        "\n",
        "    cycler = plt.cycler(color=palette)\n",
        "    plt.gca().set_prop_cycle(cycler)\n",
        "    return palette\n",
        "\n",
        "\n",
        "def locs_where(condition):\n",
        "    \"\"\" Находит клетки, где логический массив равен True (is True)\n",
        "    condition: логический массив\n",
        "    returns: список из кортежей местоположения (list of location tuples)\n",
        "    \"\"\"\n",
        "    return list(zip(*np.nonzero(condition)))"
      ],
      "execution_count": null,
      "outputs": []
    },
    {
      "cell_type": "markdown",
      "metadata": {
        "id": "W53A8s6aynyk"
      },
      "source": [
        "# Класс модели сегрегации Шеллинга \n",
        "## **Терминология**: \n",
        "\n",
        "*  *Похожие соседи* - это соседи того же цвета, что и исследуемый агент.\n",
        "*  *Порог толерантности* - исходная минимальная требуемая доля агентов того же цвета в соседстве (для каждого из агентов)\n",
        "*  *Степень сегрегации* - итоговая усредненная доля похожих соседей для каждой клетки карты.\n",
        "\n",
        "\n"
      ]
    },
    {
      "cell_type": "code",
      "metadata": {
        "id": "HyuDZPFWysEf"
      },
      "source": [
        "class Schelling(Cell2D):\n",
        "    \"\"\"Представление сетки для агентов Шеллинга\"\"\"\n",
        "\n",
        "    # для функции correlate2d:\n",
        "    # параметры same - результат будет того же размера, что и входные данные\n",
        "    # wrap - верхний край сворачивается так, чтобы соответствовать нижнему,\n",
        "    # а левый край – правому.\n",
        "    options = dict(mode='same', boundary='wrap')\n",
        "    # указываем, что соседство = 8 агентам\n",
        "    kernel = np.array([[1, 1, 1],\n",
        "                       [1, 0, 1],\n",
        "                       [1, 1, 1]], dtype=np.int8)\n",
        "\n",
        "    def __init__(self, n, p):\n",
        "        \"\"\"Инициализация агентов на сетке.\n",
        "\n",
        "        n: количество строк и столбцов (= размер сетки)\n",
        "        p: порог толерантности (минимальная доля агентов того же цвета в соседстве)\n",
        "        напр. если p = 0.3, то агенты цвета Х\n",
        "        будут довольны, когда 30% или более соседей цвета Х.\n",
        "        \"\"\"\n",
        "        self.p = p\n",
        "        # 0 -пустая клетка, 1 - красный агент, 2 - синий агент\n",
        "        choices = np.array([0, 1, 2], dtype=np.int8)\n",
        "        # распределение типов клеток: 10% - пустые, по 45% синих и красных\n",
        "        probs = [0.1, 0.45, 0.45]\n",
        "        # сгенерированная карта\n",
        "        self.array = np.random.choice(choices, (n, n), p=probs)\n",
        "        # текущая усредненная степень сегрегации модели\n",
        "        self.current_segregation = self.segregation()\n",
        "\n",
        "    def count_neighbors(self):\n",
        "        \"\"\"Исследование соседних клеток\n",
        "\n",
        "        returns: кортежи (пустые клетки; доли красных; доли синих; доли одинаковых)\n",
        "            empty: логический кортеж, в котором True соответствует пустой клетке\n",
        "            frac_red: доли красных соседей вокруг каждой клетки\n",
        "            frac_blue:  доли синих соседей вокруг каждой клетки\n",
        "            frac_same: доли похожих соседей\n",
        "        \"\"\"\n",
        "        a = self.array\n",
        "\n",
        "        # формируем логические массивы\n",
        "        # пустые ячейки на карте\n",
        "        empty = a == 0\n",
        "        # красные ячейки на карте\n",
        "        red = a == 1\n",
        "        # синие ячейки на карте\n",
        "        blue = a == 2\n",
        "\n",
        "        # подсчитываем красных и синих соседей для каждого местоположения\n",
        "        num_red = correlate2d(red, self.kernel, **self.options)\n",
        "        num_blue = correlate2d(blue, self.kernel, **self.options)\n",
        "        num_neighbors = num_red + num_blue\n",
        "\n",
        "        # вычисляем доли красных/синих соседей для каждого агента\n",
        "        frac_red = num_red / num_neighbors\n",
        "        frac_blue = num_blue / num_neighbors\n",
        "\n",
        "        # учитываем редкий случай:\n",
        "        # принимаем отсуствие соседей в окрестности равным отсуствию похожих соседей\n",
        "        frac_red[num_neighbors == 0] = 0\n",
        "        frac_blue[num_neighbors == 0] = 0\n",
        "\n",
        "        # каждому агенту присваиваем долю соседей того же цвета, что и агент\n",
        "        frac_same = np.where(red, frac_red, frac_blue)\n",
        "\n",
        "        # для пустых клеток, frac_same получает NaN\n",
        "        frac_same[empty] = np.nan\n",
        "\n",
        "        return empty, frac_red, frac_blue, frac_same\n",
        "\n",
        "    def segregation(self):\n",
        "        \"\"\"Расчет итоговой степени сегрегации, являющейся средней по агентам\n",
        "\n",
        "        returns: доля похожих соседей, усредненная для каждой клетки\n",
        "        \"\"\"\n",
        "        _, _, _, frac_same = self.count_neighbors()\n",
        "        self.current_segregation = np.nanmean(frac_same)\n",
        "        return self.current_segregation\n",
        "\n",
        "    def step(self, show_segregation_steps = None):\n",
        "        \"\"\"функция, реализующая перестановку всех недовольных агентов \n",
        "        show_segregation_steps (True): вывести значение степени сегрегации системы после шага\n",
        "\n",
        "        returns: долю одинаковых соседей, усредненную для каждой клетки\n",
        "        \"\"\"\n",
        "        a = self.array\n",
        "        empty, _, _, frac_same = self.count_neighbors()\n",
        "\n",
        "        # поиск недовольных агентов (игнорируем NaN в frac_same)\n",
        "        with np.errstate(invalid='ignore'):\n",
        "            unhappy = frac_same < self.p\n",
        "        unhappy_locs = locs_where(unhappy)\n",
        "\n",
        "        # поиск координат пустых клеток\n",
        "        empty_locs = locs_where(empty)\n",
        "\n",
        "        # перемешиваем клетки с несчастными агентами\n",
        "        if len(unhappy_locs):\n",
        "            np.random.shuffle(unhappy_locs)\n",
        "\n",
        "        # для каждого несчастного агента выбираем случайную пустую клетку для перемещения\n",
        "        num_empty = np.sum(empty)\n",
        "        for source in unhappy_locs:\n",
        "            i = np.random.randint(num_empty)\n",
        "            # координаты пустой случайной клетки, куда перемещаемся\n",
        "            dest = empty_locs[i]\n",
        "\n",
        "            # перемещение\n",
        "            a[dest] = a[source]\n",
        "            a[source] = 0\n",
        "            empty_locs[i] = source\n",
        "\n",
        "        # проверка: количество пустых клеток должно остаться прежним\n",
        "        num_empty2 = np.sum(a == 0)\n",
        "        assert num_empty == num_empty2\n",
        "        \n",
        "        self.current_segregation = np.nanmean(frac_same)\n",
        "        \n",
        "        if show_segregation_steps == True:\n",
        "            print('полученная степень сегрегация на шаге frac_same: ',round(self.current_segregation,3))\n",
        "        \n",
        "        # возвращаем усредненное значение долей одинаковых соседей\n",
        "        return self.current_segregation\n",
        "\n",
        "    def draw(self, animation=None):\n",
        "        \"\"\"Отрисовка ячеек для визуализации\n",
        "        animation (True): отрисовка для анимации\n",
        "        \"\"\"\n",
        "        return draw_array(self.array, animation, cmap=cmap, vmax=2)"
      ],
      "execution_count": null,
      "outputs": []
    },
    {
      "cell_type": "code",
      "metadata": {
        "id": "x0wcSVZe1haM"
      },
      "source": [
        "# создаем пользовательскую цветную карту\n",
        "palette = sns.color_palette('muted')\n",
        "colors = 'white', palette[1], palette[0]\n",
        "cmap = LinearSegmentedColormap.from_list('cmap', colors)"
      ],
      "execution_count": null,
      "outputs": []
    },
    {
      "cell_type": "markdown",
      "metadata": {
        "id": "DYT-E9KW0Bfq"
      },
      "source": [
        "# **Настройка модели сегрегации**\n",
        "## Введите данные для генерирования случайной карты для модели сегрегации:\n",
        "\n",
        "\n",
        "*   n - размер карты (n x n)\n",
        "*   p - параметр порога толерантности (минимальная доля агентов того же цвета в соседстве)\n",
        "  * напр. если p = 0.3, то агенты цвета Х\n",
        "        будут довольны, когда 30% или более соседей цвета Х.\n",
        "\n",
        "\n",
        "*Настройки отрисовки карты:*\n",
        "*   w - ширина холста (дюймы)\n",
        "*   h - высота ходста (дюймы)\n",
        "*   dpi - плотность пикселей холста\n",
        "\n",
        "\n"
      ]
    },
    {
      "cell_type": "code",
      "metadata": {
        "colab": {
          "base_uri": "https://localhost:8080/",
          "height": 596
        },
        "id": "g7vugFK7KGac",
        "outputId": "c12254d5-c2de-435c-b6dd-3c6bb2c50567"
      },
      "source": [
        "n = 30\n",
        "p = 0.4\n",
        "\n",
        "# настройка отрисовки (лучше оставить настройки по-умолчанию):\n",
        "w = 10\n",
        "h = 10\n",
        "dpi = 70\n",
        "\n",
        "# позволяет в каждой из ячеек генерировать один и тот же \n",
        "# исходный случайный порядок агентов \n",
        "np.random.seed(17) \n",
        "grid = Schelling(n=n, p=p)\n",
        "# отрисовка сгенерированной карты\n",
        "plt.figure(figsize=(w, h), dpi=dpi)\n",
        "grid.draw()\n",
        "print('Исходный параметр порога толерантности:', p)\n",
        "print('Исходная усредненная степень сегрегации', round(grid.current_segregation,3))\n"
      ],
      "execution_count": null,
      "outputs": [
        {
          "output_type": "stream",
          "name": "stdout",
          "text": [
            "Исходный параметр порога толерантности: 0.4\n",
            "Исходная усредненная степень сегрегации 0.503\n"
          ]
        },
        {
          "output_type": "display_data",
          "data": {
            "image/png": "[encoded data removed]",
            "text/plain": [
              "<Figure size 700x700 with 1 Axes>"
            ]
          },
          "metadata": {}
        }
      ]
    },
    {
      "cell_type": "markdown",
      "metadata": {
        "id": "P-orTh9IUHh6"
      },
      "source": [
        "## Запуск модели \n",
        "### Способ 1: запуск функции шага перемещения агентов - *step()* внутри цикла for \n",
        "\n",
        "*Пример*:\n",
        "for i in range(1, 4) - позволяет запустить 3 раунда (шага) перемещения агентов"
      ]
    },
    {
      "cell_type": "code",
      "metadata": {
        "colab": {
          "base_uri": "https://localhost:8080/"
        },
        "id": "ZAxn63VEUHh6",
        "outputId": "86559de2-eeed-45a2-ffa6-fe4f44b98953"
      },
      "source": [
        "# позволяет в каждой из ячеек генерировать один и тот же \n",
        "# исходный случайный порядок агентов \n",
        "np.random.seed(17) \n",
        "\n",
        "grid = Schelling(n=n, p=p)\n",
        "\n",
        "for i in range(1, 4):\n",
        "    print('шаг ', i)\n",
        "    grid.step(show_segregation_steps=True)\n",
        "    \n",
        "# grid.loop(iters=3)\n",
        "print('\\nИтоговая степень сегрегации: ', round(grid.current_segregation,3))\n",
        "    \n",
        "# print('Итоговая степень сегрегации: ', grid.segregation())"
      ],
      "execution_count": null,
      "outputs": [
        {
          "output_type": "stream",
          "name": "stdout",
          "text": [
            "шаг  1\n",
            "полученная степень сегрегация на шаге frac_same:  0.503\n",
            "шаг  2\n",
            "полученная степень сегрегация на шаге frac_same:  0.612\n",
            "шаг  3\n",
            "полученная степень сегрегация на шаге frac_same:  0.686\n",
            "\n",
            "Итоговая степень сегрегации:  0.686\n"
          ]
        }
      ]
    },
    {
      "cell_type": "markdown",
      "metadata": {
        "id": "PCf8djpdUHh7"
      },
      "source": [
        "### Способ 2: запуск функции раунда перемещения агентов - *loop(iters)* с указанием количества шагов (без указания iters запускается 1 шаг)\n",
        "\n",
        "*Пример*:\n",
        "grid.loop(3, show_segregation_steps)- позволяет запустить 3 раунда (шага) перемещения агентов"
      ]
    },
    {
      "cell_type": "code",
      "metadata": {
        "colab": {
          "base_uri": "https://localhost:8080/"
        },
        "id": "puYzFfi7UHh7",
        "outputId": "3c8716b3-8c83-4ce1-e6dd-9dbf58598e73"
      },
      "source": [
        "# позволяет в каждой из ячеек генерировать один и тот же \n",
        "# исходный случайный порядок агентов \n",
        "np.random.seed(17) \n",
        "\n",
        "grid = Schelling(n=n, p=p)\n",
        "\n",
        "grid.loop(3, show_segregation_steps = True)\n",
        "print('\\nИтоговая степень сегрегации: ', round(grid.current_segregation, 3))"
      ],
      "execution_count": null,
      "outputs": [
        {
          "output_type": "stream",
          "name": "stdout",
          "text": [
            "шаг  1\n",
            "полученная степень сегрегация на шаге frac_same:  0.503\n",
            "шаг  2\n",
            "полученная степень сегрегация на шаге frac_same:  0.612\n",
            "шаг  3\n",
            "полученная степень сегрегация на шаге frac_same:  0.686\n",
            "\n",
            "Итоговая степень сегрегации:  0.686\n"
          ]
        }
      ]
    },
    {
      "cell_type": "markdown",
      "metadata": {
        "id": "r-pkDm4g60D4"
      },
      "source": [
        "## Анимация моделирования перемещения агентов (образования сегрегации)\n",
        "*   количество шагов задаётся параметром frames\n",
        "*   как только все агенты оказываются счастливы (довольны долей похожих агентов в соседстве) - агенты прекращают перемещение (несмотря на оставшееся количество шагов)\n",
        "\n",
        "*Степень сегрегации быстро возрастает с каждым шагом*.\n",
        "\n",
        "\n",
        "---\n",
        "\n",
        "### ⚠️ Внимание: для запуска анимации - перезапустить ячейку ниже\n",
        "\n"
      ]
    },
    {
      "cell_type": "code",
      "metadata": {
        "colab": {
          "base_uri": "https://localhost:8080/",
          "height": 612
        },
        "id": "LZW_L7Hi65gz",
        "outputId": "8ff9df91-a2aa-4109-8880-53788f684dce"
      },
      "source": [
        "# позволяет в каждой из ячеек генерировать один и тот же \n",
        "# исходный случайный порядок агентов \n",
        "np.random.seed(17) \n",
        "grid = Schelling(n=n, p=p)\n",
        "\n",
        "grid.animate(frames=30, interval=0.1)\n",
        "\n",
        "# получение итоговой степени сегрегации \n",
        "print('Исходный параметр порога толерантности:', p)\n",
        "print('Итоговая степень сегрегации: ', round(grid.current_segregation, 3))"
      ],
      "execution_count": null,
      "outputs": [
        {
          "output_type": "display_data",
          "data": {
            "image/png": "[encoded data removed]",
            "text/plain": [
              "<Figure size 720x720 with 1 Axes>"
            ]
          },
          "metadata": {}
        },
        {
          "output_type": "stream",
          "name": "stdout",
          "text": [
            "Исходный параметр порога толерантности: 0.4\n",
            "Итоговая степень сегрегации:  0.846\n"
          ]
        }
      ]
    },
    {
      "cell_type": "markdown",
      "metadata": {
        "id": "DAGop777Y3zL"
      },
      "source": [
        "## Снимки состояния системы на разных этапах \n",
        "*   steps - список, состоящий из 3х значений, каждое из которых - количество шагов перемещений агентов перед фиксацией снимка.\n"
      ]
    },
    {
      "cell_type": "code",
      "metadata": {
        "colab": {
          "base_uri": "https://localhost:8080/",
          "height": 1000
        },
        "id": "QVHf8VywLq3p",
        "outputId": "32d6e35d-2e98-41f4-9ec8-68fad4d8d7cc"
      },
      "source": [
        "# отобразить состояние соседей на начальном этапе, после 2х шагов, после 20 шагов\n",
        "steps = [0, 2, 20]\n",
        "\n",
        "# позволяет в каждой из ячеек генерировать один и тот же \n",
        "# исходный случайный порядок агентов \n",
        "np.random.seed(17) \n",
        "grid = Schelling(n=n, p=p)\n",
        "\n",
        "three_frame(grid, steps, show_segregation_steps = True)"
      ],
      "execution_count": null,
      "outputs": [
        {
          "output_type": "stream",
          "name": "stdout",
          "text": [
            "шаг  1\n",
            "полученная степень сегрегация на шаге frac_same:  0.503\n",
            "шаг  2\n",
            "полученная степень сегрегация на шаге frac_same:  0.618\n",
            "шаг  1\n",
            "полученная степень сегрегация на шаге frac_same:  0.702\n",
            "шаг  2\n",
            "полученная степень сегрегация на шаге frac_same:  0.743\n",
            "шаг  3\n",
            "полученная степень сегрегация на шаге frac_same:  0.76\n",
            "шаг  4\n",
            "полученная степень сегрегация на шаге frac_same:  0.781\n",
            "шаг  5\n",
            "полученная степень сегрегация на шаге frac_same:  0.8\n",
            "шаг  6\n",
            "полученная степень сегрегация на шаге frac_same:  0.81\n",
            "шаг  7\n",
            "полученная степень сегрегация на шаге frac_same:  0.818\n",
            "шаг  8\n",
            "полученная степень сегрегация на шаге frac_same:  0.826\n",
            "шаг  9\n",
            "полученная степень сегрегация на шаге frac_same:  0.834\n",
            "шаг  10\n",
            "полученная степень сегрегация на шаге frac_same:  0.835\n",
            "шаг  11\n",
            "полученная степень сегрегация на шаге frac_same:  0.841\n",
            "шаг  12\n",
            "полученная степень сегрегация на шаге frac_same:  0.841\n",
            "шаг  13\n",
            "полученная степень сегрегация на шаге frac_same:  0.841\n",
            "шаг  14\n",
            "полученная степень сегрегация на шаге frac_same:  0.841\n",
            "шаг  15\n",
            "полученная степень сегрегация на шаге frac_same:  0.841\n",
            "шаг  16\n",
            "полученная степень сегрегация на шаге frac_same:  0.841\n",
            "шаг  17\n",
            "полученная степень сегрегация на шаге frac_same:  0.841\n",
            "шаг  18\n",
            "полученная степень сегрегация на шаге frac_same:  0.841\n",
            "шаг  19\n",
            "полученная степень сегрегация на шаге frac_same:  0.841\n",
            "шаг  20\n",
            "полученная степень сегрегация на шаге frac_same:  0.841\n"
          ]
        },
        {
          "output_type": "display_data",
          "data": {
            "image/png": "[encoded data removed]",
            "text/plain": [
              "<Figure size 1440x1440 with 3 Axes>"
            ]
          },
          "metadata": {}
        }
      ]
    },
    {
      "cell_type": "markdown",
      "metadata": {
        "id": "nUEOFYpqUHh8"
      },
      "source": [
        "### Итог (на основе p и n значений по-умолчанию): \n",
        "На 11 шаге перемещения агентов прекращаются: все агенты довольны своим положением в соответствии с заданным порогом толерантности `p = 0.4` (40% похожих агентов в соседстве). Итоговая усредненная степень сегрегации составила `frac_same = 0.84` (в среднем 84% похожих агентов в соседстве)\n"
      ]
    },
    {
      "cell_type": "markdown",
      "metadata": {
        "id": "_hHjuF7yUHh8"
      },
      "source": [
        "## График зависимости степени сегрегации (*average_frac_same*) в модели Шеллинга от значения исходного порога толерантности (*p*)"
      ]
    },
    {
      "cell_type": "markdown",
      "metadata": {
        "id": "-K_YekkSUU5D"
      },
      "source": [
        "Ниже представлена зависимость **итоговой степени сегрегации** в устойчивом состоянии системы от **исходного параметра толерантности p** (порог похожих соседей в соседстве, которое устроит агентов модели)"
      ]
    },
    {
      "cell_type": "code",
      "metadata": {
        "id": "uzwyK7bFR9LF",
        "colab": {
          "base_uri": "https://localhost:8080/",
          "height": 654
        },
        "outputId": "69af6988-7ca2-48a5-8b37-5ebf7c814033"
      },
      "source": [
        "np.random.seed(17)\n",
        "plt.subplots(figsize=[10, 8])\n",
        "for p in [0.5, 0.4, 0.3, 0.2]:\n",
        "    grid = Schelling(n=100, p=p)\n",
        "    segs = [grid.step() for i in range(12)]\n",
        "    plt.plot(segs, label='p = %.1f' % p)\n",
        "    print('Порог толерантности  = ', p, '\\t Итоговая степень сегрегации = ', round(segs[-1],3), '\\t △ =', round(segs[-1] - p,3))\n",
        "decorate(xlabel='шаг', ylabel='уровень сегрегации (усредненный)', loc='lower right', ylim=[0, 1], title='Степень сегрегации в модели Шеллинга\\nс течением времени для диапазона p')\n",
        "plt.grid()\n",
        "plt.show()"
      ],
      "execution_count": null,
      "outputs": [
        {
          "output_type": "stream",
          "name": "stdout",
          "text": [
            "Порог толерантности  =  0.5 \t Итоговая степень сегрегации =  0.871 \t △ = 0.371\n",
            "Порог толерантности  =  0.4 \t Итоговая степень сегрегации =  0.818 \t △ = 0.418\n",
            "Порог толерантности  =  0.3 \t Итоговая степень сегрегации =  0.754 \t △ = 0.454\n",
            "Порог толерантности  =  0.2 \t Итоговая степень сегрегации =  0.573 \t △ = 0.373\n"
          ]
        },
        {
          "output_type": "display_data",
          "data": {
            "image/png": "[encoded data removed]",
            "text/plain": [
              "<Figure size 720x576 with 1 Axes>"
            ]
          },
          "metadata": {
            "needs_background": "light"
          }
        }
      ]
    },
    {
      "cell_type": "markdown",
      "metadata": {
        "id": "yp0VhT41W5LO"
      },
      "source": [
        "### Итог:\n",
        "При значении `p = 0.4` наблюдается значительная разница между исходным показателем **p** толерантности (долей \"похожих соседей\", которая устраивает каждого отдельного агента системы) - всего **40%** агентов соседства должны быть \"похожи\", и той степенью сегрегации (усредненная доля похожих соседей для каждого агента), которую они действительно получают в результате совместных перемещений агентов внутри системы - около **82%** \"похожих агентов\" в соседстве. \n",
        "\n",
        "#### Эти результаты удивляют многих и служат ярким примером непредсказуемой взаимосвязи между индивидуальными решениями и поведением системы."
      ]
    }
  ]
}